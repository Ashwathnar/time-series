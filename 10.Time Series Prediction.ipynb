{
 "cells": [
  {
   "cell_type": "markdown",
   "id": "bb2dff7f",
   "metadata": {},
   "source": [
    "## Import the necessary libraries"
   ]
  },
  {
   "cell_type": "code",
   "execution_count": 1,
   "id": "67f8747e",
   "metadata": {},
   "outputs": [],
   "source": [
    "import numpy as np\n",
    "import pandas as pd\n",
    "import matplotlib.pyplot as plt\n",
    "from sklearn.preprocessing import MinMaxScaler\n",
    "from sklearn.metrics import mean_squared_error, mean_absolute_error, r2_score\n",
    "from statsmodels.tsa.stattools import adfuller\n",
    "from tensorflow.keras.models import Sequential\n",
    "from tensorflow.keras.layers import LSTM, Dense\n",
    "from tensorflow.keras.optimizers import Adam\n"
   ]
  },
  {
   "cell_type": "code",
   "execution_count": 6,
   "id": "f557192d",
   "metadata": {},
   "outputs": [
    {
     "name": "stdout",
     "output_type": "stream",
     "text": [
      "                         Sales\n",
      "Date                          \n",
      "2015-01-01 00:00:00  54.048619\n",
      "2015-01-01 01:00:00  50.161596\n",
      "2015-01-01 02:00:00  55.954939\n",
      "2015-01-01 03:00:00  56.553261\n",
      "2015-01-01 04:00:00  60.487874\n"
     ]
    }
   ],
   "source": [
    "import warnings\n",
    "warnings.filterwarnings(\"ignore\")\n",
    "# read the dataset\n",
    "data = pd.read_csv('10.retail_sales.csv', index_col='Date', parse_dates=True)\n",
    "print(data.head())\n"
   ]
  },
  {
   "cell_type": "code",
   "execution_count": 11,
   "id": "f6b5e7a9",
   "metadata": {},
   "outputs": [],
   "source": [
    "# resampling time series Data to hourly frequency with pandas\n",
    "\n",
    "data= data.asfreq('H')"
   ]
  },
  {
   "cell_type": "code",
   "execution_count": 12,
   "id": "4893f27d",
   "metadata": {},
   "outputs": [
    {
     "name": "stdout",
     "output_type": "stream",
     "text": [
      "ADF Statistic: -3.15354213292866\n",
      "p-value: 0.022836314599436483\n",
      "Critial Values:\n",
      "   1%, -3.4304745025245373\n",
      "Critial Values:\n",
      "   5%, -2.861595027617222\n",
      "Critial Values:\n",
      "   10%, -2.5667992893705645\n",
      "ADF Statistic: -35.52644623693404\n",
      "p-value: 0.0\n",
      "Critial Values:\n",
      "   1%, -3.430474504895001\n",
      "Critial Values:\n",
      "   5%, -2.861595028664898\n",
      "Critial Values:\n",
      "   10%, -2.5667992899282113\n"
     ]
    }
   ],
   "source": [
    "# Check for stationarity and make the series stationary if needed\n",
    "\n",
    "def adf_test(series):\n",
    "    result = adfuller(series)\n",
    "    print('ADF Statistic:', result[0])\n",
    "    print('p-value:', result[1])\n",
    "    for key, value in result[4].items():\n",
    "        print('Critial Values:')\n",
    "        print(f'   {key}, {value}')\n",
    "\n",
    "# Check stationarity\n",
    "adf_test(data['Sales'])\n",
    "\n",
    "# If the series is not stationary, difference the series\n",
    "data_diff = data.diff().dropna()\n",
    "adf_test(data_diff['Sales'])\n"
   ]
  },
  {
   "cell_type": "markdown",
   "id": "a5927a6f",
   "metadata": {},
   "source": [
    "#### p-value is smaller than 0.5 its stationary"
   ]
  },
  {
   "cell_type": "code",
   "execution_count": 13,
   "id": "a85bf532",
   "metadata": {},
   "outputs": [],
   "source": [
    "# Scaling the data, i changed all time series range values 0 to 1\n",
    "scaler = MinMaxScaler(feature_range=(0, 1))\n",
    "scaled_data = scaler.fit_transform(data_diff)\n",
    "\n",
    "# Convert scaled data back to a DataFrame\n",
    "scaled_data = pd.DataFrame(scaled_data, columns=['Sales'], index=data_diff.index)\n"
   ]
  },
  {
   "cell_type": "code",
   "execution_count": 15,
   "id": "861890b2",
   "metadata": {},
   "outputs": [
    {
     "data": {
      "text/html": [
       "<div>\n",
       "<style scoped>\n",
       "    .dataframe tbody tr th:only-of-type {\n",
       "        vertical-align: middle;\n",
       "    }\n",
       "\n",
       "    .dataframe tbody tr th {\n",
       "        vertical-align: top;\n",
       "    }\n",
       "\n",
       "    .dataframe thead th {\n",
       "        text-align: right;\n",
       "    }\n",
       "</style>\n",
       "<table border=\"1\" class=\"dataframe\">\n",
       "  <thead>\n",
       "    <tr style=\"text-align: right;\">\n",
       "      <th></th>\n",
       "      <th>Sales</th>\n",
       "    </tr>\n",
       "    <tr>\n",
       "      <th>Date</th>\n",
       "      <th></th>\n",
       "    </tr>\n",
       "  </thead>\n",
       "  <tbody>\n",
       "    <tr>\n",
       "      <th>2015-01-01 01:00:00</th>\n",
       "      <td>0.492056</td>\n",
       "    </tr>\n",
       "    <tr>\n",
       "      <th>2015-01-01 02:00:00</th>\n",
       "      <td>0.714117</td>\n",
       "    </tr>\n",
       "    <tr>\n",
       "      <th>2015-01-01 03:00:00</th>\n",
       "      <td>0.594947</td>\n",
       "    </tr>\n",
       "    <tr>\n",
       "      <th>2015-01-01 04:00:00</th>\n",
       "      <td>0.671479</td>\n",
       "    </tr>\n",
       "    <tr>\n",
       "      <th>2015-01-01 05:00:00</th>\n",
       "      <td>0.587778</td>\n",
       "    </tr>\n",
       "    <tr>\n",
       "      <th>...</th>\n",
       "      <td>...</td>\n",
       "    </tr>\n",
       "    <tr>\n",
       "      <th>2020-12-30 20:00:00</th>\n",
       "      <td>0.538090</td>\n",
       "    </tr>\n",
       "    <tr>\n",
       "      <th>2020-12-30 21:00:00</th>\n",
       "      <td>0.687076</td>\n",
       "    </tr>\n",
       "    <tr>\n",
       "      <th>2020-12-30 22:00:00</th>\n",
       "      <td>0.556510</td>\n",
       "    </tr>\n",
       "    <tr>\n",
       "      <th>2020-12-30 23:00:00</th>\n",
       "      <td>0.659358</td>\n",
       "    </tr>\n",
       "    <tr>\n",
       "      <th>2020-12-31 00:00:00</th>\n",
       "      <td>0.634744</td>\n",
       "    </tr>\n",
       "  </tbody>\n",
       "</table>\n",
       "<p>52584 rows × 1 columns</p>\n",
       "</div>"
      ],
      "text/plain": [
       "                        Sales\n",
       "Date                         \n",
       "2015-01-01 01:00:00  0.492056\n",
       "2015-01-01 02:00:00  0.714117\n",
       "2015-01-01 03:00:00  0.594947\n",
       "2015-01-01 04:00:00  0.671479\n",
       "2015-01-01 05:00:00  0.587778\n",
       "...                       ...\n",
       "2020-12-30 20:00:00  0.538090\n",
       "2020-12-30 21:00:00  0.687076\n",
       "2020-12-30 22:00:00  0.556510\n",
       "2020-12-30 23:00:00  0.659358\n",
       "2020-12-31 00:00:00  0.634744\n",
       "\n",
       "[52584 rows x 1 columns]"
      ]
     },
     "execution_count": 15,
     "metadata": {},
     "output_type": "execute_result"
    }
   ],
   "source": [
    "#check range\n",
    "scaled_data"
   ]
  },
  {
   "cell_type": "markdown",
   "id": "09701e22",
   "metadata": {},
   "source": [
    "## Split the dataset into train and test sets"
   ]
  },
  {
   "cell_type": "code",
   "execution_count": 17,
   "id": "884c65a0",
   "metadata": {},
   "outputs": [],
   "source": [
    "#  Split the dataset into train and test sets\n",
    "train_size = int(len(scaled_data) * 0.8)\n",
    "train, test = scaled_data[:train_size], scaled_data[train_size:]\n",
    "\n",
    "# Convert data to sequences\n",
    "def create_sequences(data, sequence_length):\n",
    "    sequences = []\n",
    "    labels = []\n",
    "    for i in range(len(data) - sequence_length):\n",
    "        sequences.append(data.iloc[i:i + sequence_length].values)\n",
    "        labels.append(data.iloc[i + sequence_length].values)\n",
    "    return np.array(sequences), np.array(labels)\n",
    "\n",
    "sequence_length = 10  \n",
    "X_train, y_train = create_sequences(train, sequence_length)\n",
    "X_test, y_test = create_sequences(test, sequence_length)\n"
   ]
  },
  {
   "cell_type": "code",
   "execution_count": 37,
   "id": "e7c30999",
   "metadata": {},
   "outputs": [
    {
     "name": "stdout",
     "output_type": "stream",
     "text": [
      "(42057, 10, 1)\n",
      "(10507, 1)\n"
     ]
    }
   ],
   "source": [
    "# check train ,test shape\n",
    "print(X_train.shape)\n",
    "print(y_test.shape)"
   ]
  },
  {
   "cell_type": "markdown",
   "id": "b8d30236",
   "metadata": {},
   "source": [
    "## Build the LSTM model"
   ]
  },
  {
   "cell_type": "code",
   "execution_count": 25,
   "id": "58354425",
   "metadata": {},
   "outputs": [
    {
     "name": "stdout",
     "output_type": "stream",
     "text": [
      "Epoch 1/50\n",
      "\u001b[1m1183/1183\u001b[0m \u001b[32m━━━━━━━━━━━━━━━━━━━━\u001b[0m\u001b[37m\u001b[0m \u001b[1m13s\u001b[0m 8ms/step - loss: 0.0133 - val_loss: 0.0053\n",
      "Epoch 2/50\n",
      "\u001b[1m1183/1183\u001b[0m \u001b[32m━━━━━━━━━━━━━━━━━━━━\u001b[0m\u001b[37m\u001b[0m \u001b[1m9s\u001b[0m 7ms/step - loss: 0.0056 - val_loss: 0.0049\n",
      "Epoch 3/50\n",
      "\u001b[1m1183/1183\u001b[0m \u001b[32m━━━━━━━━━━━━━━━━━━━━\u001b[0m\u001b[37m\u001b[0m \u001b[1m9s\u001b[0m 8ms/step - loss: 0.0053 - val_loss: 0.0048\n",
      "Epoch 4/50\n",
      "\u001b[1m1183/1183\u001b[0m \u001b[32m━━━━━━━━━━━━━━━━━━━━\u001b[0m\u001b[37m\u001b[0m \u001b[1m9s\u001b[0m 8ms/step - loss: 0.0050 - val_loss: 0.0049\n",
      "Epoch 5/50\n",
      "\u001b[1m1183/1183\u001b[0m \u001b[32m━━━━━━━━━━━━━━━━━━━━\u001b[0m\u001b[37m\u001b[0m \u001b[1m9s\u001b[0m 8ms/step - loss: 0.0049 - val_loss: 0.0047\n",
      "Epoch 6/50\n",
      "\u001b[1m1183/1183\u001b[0m \u001b[32m━━━━━━━━━━━━━━━━━━━━\u001b[0m\u001b[37m\u001b[0m \u001b[1m9s\u001b[0m 8ms/step - loss: 0.0049 - val_loss: 0.0048\n",
      "Epoch 7/50\n",
      "\u001b[1m1183/1183\u001b[0m \u001b[32m━━━━━━━━━━━━━━━━━━━━\u001b[0m\u001b[37m\u001b[0m \u001b[1m9s\u001b[0m 7ms/step - loss: 0.0048 - val_loss: 0.0047\n",
      "Epoch 8/50\n",
      "\u001b[1m1183/1183\u001b[0m \u001b[32m━━━━━━━━━━━━━━━━━━━━\u001b[0m\u001b[37m\u001b[0m \u001b[1m9s\u001b[0m 8ms/step - loss: 0.0049 - val_loss: 0.0047\n",
      "Epoch 9/50\n",
      "\u001b[1m1183/1183\u001b[0m \u001b[32m━━━━━━━━━━━━━━━━━━━━\u001b[0m\u001b[37m\u001b[0m \u001b[1m9s\u001b[0m 7ms/step - loss: 0.0048 - val_loss: 0.0051\n",
      "Epoch 10/50\n",
      "\u001b[1m1183/1183\u001b[0m \u001b[32m━━━━━━━━━━━━━━━━━━━━\u001b[0m\u001b[37m\u001b[0m \u001b[1m9s\u001b[0m 8ms/step - loss: 0.0048 - val_loss: 0.0047\n",
      "Epoch 11/50\n",
      "\u001b[1m1183/1183\u001b[0m \u001b[32m━━━━━━━━━━━━━━━━━━━━\u001b[0m\u001b[37m\u001b[0m \u001b[1m9s\u001b[0m 7ms/step - loss: 0.0047 - val_loss: 0.0047\n",
      "Epoch 12/50\n",
      "\u001b[1m1183/1183\u001b[0m \u001b[32m━━━━━━━━━━━━━━━━━━━━\u001b[0m\u001b[37m\u001b[0m \u001b[1m9s\u001b[0m 8ms/step - loss: 0.0047 - val_loss: 0.0046\n",
      "Epoch 13/50\n",
      "\u001b[1m1183/1183\u001b[0m \u001b[32m━━━━━━━━━━━━━━━━━━━━\u001b[0m\u001b[37m\u001b[0m \u001b[1m9s\u001b[0m 8ms/step - loss: 0.0046 - val_loss: 0.0045\n",
      "Epoch 14/50\n",
      "\u001b[1m1183/1183\u001b[0m \u001b[32m━━━━━━━━━━━━━━━━━━━━\u001b[0m\u001b[37m\u001b[0m \u001b[1m9s\u001b[0m 8ms/step - loss: 0.0046 - val_loss: 0.0048\n",
      "Epoch 15/50\n",
      "\u001b[1m1183/1183\u001b[0m \u001b[32m━━━━━━━━━━━━━━━━━━━━\u001b[0m\u001b[37m\u001b[0m \u001b[1m9s\u001b[0m 8ms/step - loss: 0.0045 - val_loss: 0.0043\n",
      "Epoch 16/50\n",
      "\u001b[1m1183/1183\u001b[0m \u001b[32m━━━━━━━━━━━━━━━━━━━━\u001b[0m\u001b[37m\u001b[0m \u001b[1m9s\u001b[0m 7ms/step - loss: 0.0043 - val_loss: 0.0043\n",
      "Epoch 17/50\n",
      "\u001b[1m1183/1183\u001b[0m \u001b[32m━━━━━━━━━━━━━━━━━━━━\u001b[0m\u001b[37m\u001b[0m \u001b[1m9s\u001b[0m 8ms/step - loss: 0.0044 - val_loss: 0.0041\n",
      "Epoch 18/50\n",
      "\u001b[1m1183/1183\u001b[0m \u001b[32m━━━━━━━━━━━━━━━━━━━━\u001b[0m\u001b[37m\u001b[0m \u001b[1m9s\u001b[0m 7ms/step - loss: 0.0043 - val_loss: 0.0042\n",
      "Epoch 19/50\n",
      "\u001b[1m1183/1183\u001b[0m \u001b[32m━━━━━━━━━━━━━━━━━━━━\u001b[0m\u001b[37m\u001b[0m \u001b[1m9s\u001b[0m 8ms/step - loss: 0.0042 - val_loss: 0.0041\n",
      "Epoch 20/50\n",
      "\u001b[1m1183/1183\u001b[0m \u001b[32m━━━━━━━━━━━━━━━━━━━━\u001b[0m\u001b[37m\u001b[0m \u001b[1m9s\u001b[0m 8ms/step - loss: 0.0042 - val_loss: 0.0046\n",
      "Epoch 21/50\n",
      "\u001b[1m1183/1183\u001b[0m \u001b[32m━━━━━━━━━━━━━━━━━━━━\u001b[0m\u001b[37m\u001b[0m \u001b[1m9s\u001b[0m 8ms/step - loss: 0.0042 - val_loss: 0.0041\n",
      "Epoch 22/50\n",
      "\u001b[1m1183/1183\u001b[0m \u001b[32m━━━━━━━━━━━━━━━━━━━━\u001b[0m\u001b[37m\u001b[0m \u001b[1m9s\u001b[0m 8ms/step - loss: 0.0042 - val_loss: 0.0040\n",
      "Epoch 23/50\n",
      "\u001b[1m1183/1183\u001b[0m \u001b[32m━━━━━━━━━━━━━━━━━━━━\u001b[0m\u001b[37m\u001b[0m \u001b[1m9s\u001b[0m 8ms/step - loss: 0.0041 - val_loss: 0.0040\n",
      "Epoch 24/50\n",
      "\u001b[1m1183/1183\u001b[0m \u001b[32m━━━━━━━━━━━━━━━━━━━━\u001b[0m\u001b[37m\u001b[0m \u001b[1m9s\u001b[0m 8ms/step - loss: 0.0042 - val_loss: 0.0040\n",
      "Epoch 25/50\n",
      "\u001b[1m1183/1183\u001b[0m \u001b[32m━━━━━━━━━━━━━━━━━━━━\u001b[0m\u001b[37m\u001b[0m \u001b[1m9s\u001b[0m 7ms/step - loss: 0.0041 - val_loss: 0.0042\n",
      "Epoch 26/50\n",
      "\u001b[1m1183/1183\u001b[0m \u001b[32m━━━━━━━━━━━━━━━━━━━━\u001b[0m\u001b[37m\u001b[0m \u001b[1m9s\u001b[0m 8ms/step - loss: 0.0041 - val_loss: 0.0040\n",
      "Epoch 27/50\n",
      "\u001b[1m1183/1183\u001b[0m \u001b[32m━━━━━━━━━━━━━━━━━━━━\u001b[0m\u001b[37m\u001b[0m \u001b[1m9s\u001b[0m 8ms/step - loss: 0.0041 - val_loss: 0.0040\n",
      "Epoch 28/50\n",
      "\u001b[1m1183/1183\u001b[0m \u001b[32m━━━━━━━━━━━━━━━━━━━━\u001b[0m\u001b[37m\u001b[0m \u001b[1m9s\u001b[0m 8ms/step - loss: 0.0039 - val_loss: 0.0040\n",
      "Epoch 29/50\n",
      "\u001b[1m1183/1183\u001b[0m \u001b[32m━━━━━━━━━━━━━━━━━━━━\u001b[0m\u001b[37m\u001b[0m \u001b[1m9s\u001b[0m 8ms/step - loss: 0.0041 - val_loss: 0.0039\n",
      "Epoch 30/50\n",
      "\u001b[1m1183/1183\u001b[0m \u001b[32m━━━━━━━━━━━━━━━━━━━━\u001b[0m\u001b[37m\u001b[0m \u001b[1m9s\u001b[0m 7ms/step - loss: 0.0040 - val_loss: 0.0040\n",
      "Epoch 31/50\n",
      "\u001b[1m1183/1183\u001b[0m \u001b[32m━━━━━━━━━━━━━━━━━━━━\u001b[0m\u001b[37m\u001b[0m \u001b[1m9s\u001b[0m 8ms/step - loss: 0.0040 - val_loss: 0.0039\n",
      "Epoch 32/50\n",
      "\u001b[1m1183/1183\u001b[0m \u001b[32m━━━━━━━━━━━━━━━━━━━━\u001b[0m\u001b[37m\u001b[0m \u001b[1m9s\u001b[0m 7ms/step - loss: 0.0040 - val_loss: 0.0039\n",
      "Epoch 33/50\n",
      "\u001b[1m1183/1183\u001b[0m \u001b[32m━━━━━━━━━━━━━━━━━━━━\u001b[0m\u001b[37m\u001b[0m \u001b[1m9s\u001b[0m 8ms/step - loss: 0.0040 - val_loss: 0.0040\n",
      "Epoch 34/50\n",
      "\u001b[1m1183/1183\u001b[0m \u001b[32m━━━━━━━━━━━━━━━━━━━━\u001b[0m\u001b[37m\u001b[0m \u001b[1m9s\u001b[0m 8ms/step - loss: 0.0039 - val_loss: 0.0041\n",
      "Epoch 35/50\n",
      "\u001b[1m1183/1183\u001b[0m \u001b[32m━━━━━━━━━━━━━━━━━━━━\u001b[0m\u001b[37m\u001b[0m \u001b[1m9s\u001b[0m 8ms/step - loss: 0.0040 - val_loss: 0.0039\n",
      "Epoch 36/50\n",
      "\u001b[1m1183/1183\u001b[0m \u001b[32m━━━━━━━━━━━━━━━━━━━━\u001b[0m\u001b[37m\u001b[0m \u001b[1m9s\u001b[0m 8ms/step - loss: 0.0040 - val_loss: 0.0039\n",
      "Epoch 37/50\n",
      "\u001b[1m1183/1183\u001b[0m \u001b[32m━━━━━━━━━━━━━━━━━━━━\u001b[0m\u001b[37m\u001b[0m \u001b[1m9s\u001b[0m 7ms/step - loss: 0.0040 - val_loss: 0.0040\n",
      "Epoch 38/50\n",
      "\u001b[1m1183/1183\u001b[0m \u001b[32m━━━━━━━━━━━━━━━━━━━━\u001b[0m\u001b[37m\u001b[0m \u001b[1m9s\u001b[0m 8ms/step - loss: 0.0039 - val_loss: 0.0038\n",
      "Epoch 39/50\n",
      "\u001b[1m1183/1183\u001b[0m \u001b[32m━━━━━━━━━━━━━━━━━━━━\u001b[0m\u001b[37m\u001b[0m \u001b[1m9s\u001b[0m 8ms/step - loss: 0.0040 - val_loss: 0.0040\n",
      "Epoch 40/50\n",
      "\u001b[1m1183/1183\u001b[0m \u001b[32m━━━━━━━━━━━━━━━━━━━━\u001b[0m\u001b[37m\u001b[0m \u001b[1m10s\u001b[0m 8ms/step - loss: 0.0040 - val_loss: 0.0038\n",
      "Epoch 41/50\n",
      "\u001b[1m1183/1183\u001b[0m \u001b[32m━━━━━━━━━━━━━━━━━━━━\u001b[0m\u001b[37m\u001b[0m \u001b[1m9s\u001b[0m 8ms/step - loss: 0.0039 - val_loss: 0.0039\n",
      "Epoch 42/50\n",
      "\u001b[1m1183/1183\u001b[0m \u001b[32m━━━━━━━━━━━━━━━━━━━━\u001b[0m\u001b[37m\u001b[0m \u001b[1m9s\u001b[0m 8ms/step - loss: 0.0039 - val_loss: 0.0038\n",
      "Epoch 43/50\n",
      "\u001b[1m1183/1183\u001b[0m \u001b[32m━━━━━━━━━━━━━━━━━━━━\u001b[0m\u001b[37m\u001b[0m \u001b[1m10s\u001b[0m 8ms/step - loss: 0.0040 - val_loss: 0.0039\n",
      "Epoch 44/50\n",
      "\u001b[1m1183/1183\u001b[0m \u001b[32m━━━━━━━━━━━━━━━━━━━━\u001b[0m\u001b[37m\u001b[0m \u001b[1m9s\u001b[0m 8ms/step - loss: 0.0038 - val_loss: 0.0038\n",
      "Epoch 45/50\n",
      "\u001b[1m1183/1183\u001b[0m \u001b[32m━━━━━━━━━━━━━━━━━━━━\u001b[0m\u001b[37m\u001b[0m \u001b[1m10s\u001b[0m 8ms/step - loss: 0.0039 - val_loss: 0.0039\n",
      "Epoch 46/50\n",
      "\u001b[1m1183/1183\u001b[0m \u001b[32m━━━━━━━━━━━━━━━━━━━━\u001b[0m\u001b[37m\u001b[0m \u001b[1m9s\u001b[0m 8ms/step - loss: 0.0039 - val_loss: 0.0042\n",
      "Epoch 47/50\n",
      "\u001b[1m1183/1183\u001b[0m \u001b[32m━━━━━━━━━━━━━━━━━━━━\u001b[0m\u001b[37m\u001b[0m \u001b[1m9s\u001b[0m 8ms/step - loss: 0.0039 - val_loss: 0.0039\n",
      "Epoch 48/50\n",
      "\u001b[1m1183/1183\u001b[0m \u001b[32m━━━━━━━━━━━━━━━━━━━━\u001b[0m\u001b[37m\u001b[0m \u001b[1m10s\u001b[0m 8ms/step - loss: 0.0039 - val_loss: 0.0038\n",
      "Epoch 49/50\n",
      "\u001b[1m1183/1183\u001b[0m \u001b[32m━━━━━━━━━━━━━━━━━━━━\u001b[0m\u001b[37m\u001b[0m \u001b[1m10s\u001b[0m 8ms/step - loss: 0.0039 - val_loss: 0.0038\n",
      "Epoch 50/50\n",
      "\u001b[1m1183/1183\u001b[0m \u001b[32m━━━━━━━━━━━━━━━━━━━━\u001b[0m\u001b[37m\u001b[0m \u001b[1m11s\u001b[0m 9ms/step - loss: 0.0040 - val_loss: 0.0038\n"
     ]
    }
   ],
   "source": [
    "model = Sequential()\n",
    "model.add(LSTM(50, return_sequences=True, input_shape=(sequence_length, 1)))\n",
    "model.add(LSTM(50))\n",
    "model.add(Dense(1))\n",
    "model.compile(optimizer=Adam(learning_rate=0.001), loss='mean_squared_error')\n",
    "\n",
    "# Reshape the data to fit the LSTM input requirements\n",
    "X_train = X_train.reshape((X_train.shape[0], X_train.shape[1], 1))\n",
    "X_test = X_test.reshape((X_test.shape[0], X_test.shape[1], 1))\n",
    "\n",
    "# Train the model\n",
    "history = model.fit(X_train, y_train, epochs=50, batch_size=32, validation_split=0.1)\n"
   ]
  },
  {
   "cell_type": "code",
   "execution_count": 26,
   "id": "feee6b57",
   "metadata": {},
   "outputs": [
    {
     "data": {
      "image/png": "[encoded data removed]",
      "text/plain": [
       "<Figure size 640x480 with 1 Axes>"
      ]
     },
     "metadata": {},
     "output_type": "display_data"
    }
   ],
   "source": [
    "#plot the loss function\n",
    "plt.plot(history.history['loss'], label='train')\n",
    "plt.plot(history.history['val_loss'], label='validation')\n",
    "plt.legend()\n",
    "plt.show()\n"
   ]
  },
  {
   "cell_type": "markdown",
   "id": "3c09397e",
   "metadata": {},
   "source": [
    "##  Forecasting the next 20 values\n"
   ]
  },
  {
   "cell_type": "code",
   "execution_count": 27,
   "id": "be51e130",
   "metadata": {},
   "outputs": [
    {
     "name": "stdout",
     "output_type": "stream",
     "text": [
      "\u001b[1m1/1\u001b[0m \u001b[32m━━━━━━━━━━━━━━━━━━━━\u001b[0m\u001b[37m\u001b[0m \u001b[1m0s\u001b[0m 293ms/step\n",
      "\u001b[1m1/1\u001b[0m \u001b[32m━━━━━━━━━━━━━━━━━━━━\u001b[0m\u001b[37m\u001b[0m \u001b[1m0s\u001b[0m 17ms/step\n",
      "\u001b[1m1/1\u001b[0m \u001b[32m━━━━━━━━━━━━━━━━━━━━\u001b[0m\u001b[37m\u001b[0m \u001b[1m0s\u001b[0m 17ms/step\n",
      "\u001b[1m1/1\u001b[0m \u001b[32m━━━━━━━━━━━━━━━━━━━━\u001b[0m\u001b[37m\u001b[0m \u001b[1m0s\u001b[0m 33ms/step\n",
      "\u001b[1m1/1\u001b[0m \u001b[32m━━━━━━━━━━━━━━━━━━━━\u001b[0m\u001b[37m\u001b[0m \u001b[1m0s\u001b[0m 17ms/step\n",
      "\u001b[1m1/1\u001b[0m \u001b[32m━━━━━━━━━━━━━━━━━━━━\u001b[0m\u001b[37m\u001b[0m \u001b[1m0s\u001b[0m 33ms/step\n",
      "\u001b[1m1/1\u001b[0m \u001b[32m━━━━━━━━━━━━━━━━━━━━\u001b[0m\u001b[37m\u001b[0m \u001b[1m0s\u001b[0m 33ms/step\n",
      "\u001b[1m1/1\u001b[0m \u001b[32m━━━━━━━━━━━━━━━━━━━━\u001b[0m\u001b[37m\u001b[0m \u001b[1m0s\u001b[0m 16ms/step\n",
      "\u001b[1m1/1\u001b[0m \u001b[32m━━━━━━━━━━━━━━━━━━━━\u001b[0m\u001b[37m\u001b[0m \u001b[1m0s\u001b[0m 32ms/step\n",
      "\u001b[1m1/1\u001b[0m \u001b[32m━━━━━━━━━━━━━━━━━━━━\u001b[0m\u001b[37m\u001b[0m \u001b[1m0s\u001b[0m 34ms/step\n",
      "\u001b[1m1/1\u001b[0m \u001b[32m━━━━━━━━━━━━━━━━━━━━\u001b[0m\u001b[37m\u001b[0m \u001b[1m0s\u001b[0m 16ms/step\n",
      "\u001b[1m1/1\u001b[0m \u001b[32m━━━━━━━━━━━━━━━━━━━━\u001b[0m\u001b[37m\u001b[0m \u001b[1m0s\u001b[0m 17ms/step\n",
      "\u001b[1m1/1\u001b[0m \u001b[32m━━━━━━━━━━━━━━━━━━━━\u001b[0m\u001b[37m\u001b[0m \u001b[1m0s\u001b[0m 17ms/step\n",
      "\u001b[1m1/1\u001b[0m \u001b[32m━━━━━━━━━━━━━━━━━━━━\u001b[0m\u001b[37m\u001b[0m \u001b[1m0s\u001b[0m 21ms/step\n",
      "\u001b[1m1/1\u001b[0m \u001b[32m━━━━━━━━━━━━━━━━━━━━\u001b[0m\u001b[37m\u001b[0m \u001b[1m0s\u001b[0m 18ms/step\n",
      "\u001b[1m1/1\u001b[0m \u001b[32m━━━━━━━━━━━━━━━━━━━━\u001b[0m\u001b[37m\u001b[0m \u001b[1m0s\u001b[0m 17ms/step\n",
      "\u001b[1m1/1\u001b[0m \u001b[32m━━━━━━━━━━━━━━━━━━━━\u001b[0m\u001b[37m\u001b[0m \u001b[1m0s\u001b[0m 33ms/step\n",
      "\u001b[1m1/1\u001b[0m \u001b[32m━━━━━━━━━━━━━━━━━━━━\u001b[0m\u001b[37m\u001b[0m \u001b[1m0s\u001b[0m 33ms/step\n",
      "\u001b[1m1/1\u001b[0m \u001b[32m━━━━━━━━━━━━━━━━━━━━\u001b[0m\u001b[37m\u001b[0m \u001b[1m0s\u001b[0m 33ms/step\n",
      "\u001b[1m1/1\u001b[0m \u001b[32m━━━━━━━━━━━━━━━━━━━━\u001b[0m\u001b[37m\u001b[0m \u001b[1m0s\u001b[0m 17ms/step\n"
     ]
    }
   ],
   "source": [
    "predictions = []\n",
    "input_seq = X_test[-1]\n",
    "\n",
    "for _ in range(20):\n",
    "    pred = model.predict(input_seq.reshape((1, sequence_length, 1)))\n",
    "    predictions.append(pred[0, 0])\n",
    "    input_seq = np.append(input_seq[1:], pred)\n",
    "\n",
    "# Invert scaling\n",
    "predictions = scaler.inverse_transform(np.array(predictions).reshape(-1, 1))\n"
   ]
  },
  {
   "cell_type": "code",
   "execution_count": 28,
   "id": "37fb6476",
   "metadata": {},
   "outputs": [
    {
     "data": {
      "text/plain": [
       "array([[ 2.1011865 ],\n",
       "       [ 1.7895674 ],\n",
       "       [ 1.852414  ],\n",
       "       [ 1.7899493 ],\n",
       "       [ 0.64547116],\n",
       "       [ 2.1925268 ],\n",
       "       [ 1.0371565 ],\n",
       "       [ 0.3529447 ],\n",
       "       [ 0.87982804],\n",
       "       [-0.47315064],\n",
       "       [-0.82700884],\n",
       "       [-2.015771  ],\n",
       "       [-2.6153407 ],\n",
       "       [-2.6602197 ],\n",
       "       [-2.8258915 ],\n",
       "       [-2.6927488 ],\n",
       "       [-2.5512702 ],\n",
       "       [-2.2537446 ],\n",
       "       [-1.7555914 ],\n",
       "       [-0.55604625]], dtype=float32)"
      ]
     },
     "execution_count": 28,
     "metadata": {},
     "output_type": "execute_result"
    }
   ],
   "source": [
    "predictions"
   ]
  },
  {
   "cell_type": "code",
   "execution_count": 32,
   "id": "6995696d",
   "metadata": {},
   "outputs": [
    {
     "data": {
      "image/png": "[encoded data removed]",
      "text/plain": [
       "<Figure size 640x480 with 1 Axes>"
      ]
     },
     "metadata": {},
     "output_type": "display_data"
    }
   ],
   "source": [
    "# Plot the actual values and predicted values\n",
    "last_100_actual = actual[-100:]\n",
    "actual_length = len(last_100_actual)\n",
    "\n",
    "# Generate indices for the actual and predicted values\n",
    "actual_indices = range(actual_length)\n",
    "predicted_indices = range(actual_length, actual_length + len(predictions))\n",
    "\n",
    "plt.plot(actual_indices, last_100_actual, label='Actual')\n",
    "plt.plot(predicted_indices, predictions, label='Predicted')\n",
    "plt.legend()\n",
    "plt.show()\n"
   ]
  },
  {
   "cell_type": "markdown",
   "id": "1e17b6cc",
   "metadata": {},
   "source": [
    "## Calculate mean_squared_error, mean_absolute_error, r2_score"
   ]
  },
  {
   "cell_type": "code",
   "execution_count": 36,
   "id": "3b163bd7",
   "metadata": {},
   "outputs": [
    {
     "name": "stdout",
     "output_type": "stream",
     "text": [
      "\u001b[1m329/329\u001b[0m \u001b[32m━━━━━━━━━━━━━━━━━━━━\u001b[0m\u001b[37m\u001b[0m \u001b[1m1s\u001b[0m 3ms/step\n",
      "Mean Squared Error: 7.438094178791806\n",
      "Mean Absolute Error: 2.128246034136766\n",
      "R^2 Score: 0.38400390139222174\n"
     ]
    }
   ],
   "source": [
    "from sklearn.metrics import mean_squared_error, mean_absolute_error, r2_score\n",
    "\n",
    "# Only comparing the predicted part of the test set\n",
    "y_test_inv = scaler.inverse_transform(y_test.reshape(-1, 1))\n",
    "y_pred_inv = scaler.inverse_transform(model.predict(X_test).reshape(-1, 1))\n",
    "\n",
    "mse = mean_squared_error(y_test_inv, y_pred_inv)\n",
    "mae = mean_absolute_error(y_test_inv, y_pred_inv)\n",
    "r2 = r2_score(y_test_inv, y_pred_inv)\n",
    "\n",
    "print('Mean Squared Error:', mse)\n",
    "print('Mean Absolute Error:', mae)\n",
    "print('R^2 Score:', r2)\n"
   ]
  },
  {
   "cell_type": "code",
   "execution_count": null,
   "id": "97dfcdde",
   "metadata": {},
   "outputs": [],
   "source": []
  }
 ],
 "metadata": {
  "kernelspec": {
   "display_name": "Python 3 (ipykernel)",
   "language": "python",
   "name": "python3"
  },
  "language_info": {
   "codemirror_mode": {
    "name": "ipython",
    "version": 3
   },
   "file_extension": ".py",
   "mimetype": "text/x-python",
   "name": "python",
   "nbconvert_exporter": "python",
   "pygments_lexer": "ipython3",
   "version": "3.11.5"
  }
 },
 "nbformat": 4,
 "nbformat_minor": 5
}
